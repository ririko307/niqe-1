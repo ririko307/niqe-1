{
 "cells": [
  {
   "cell_type": "code",
   "execution_count": 8,
   "metadata": {},
   "outputs": [],
   "source": [
    "from PIL import Image\n",
    "import matplotlib.pyplot as plt\n",
    "%matplotlib inline\n",
    "import numpy as np\n",
    "import sys\n",
    "#from pylab import *\n",
    "#from matplotlib.backends.backend_pdf import PdfPages\n",
    "#from numba import njit\n",
    "#import cv2\n",
    "\n",
    "global height\n",
    "global width\n",
    "global patch_size\n",
    "global number_pixcel_patch\n",
    "global c\n",
    "\n",
    "height=256\n",
    "width=256\n",
    "patch_size=2\n",
    "number_pixcel_patch=25\n",
    "c=0.1"
   ]
  }
 ],
 "metadata": {
  "kernelspec": {
   "display_name": "Python 3.9.7 ('test1')",
   "language": "python",
   "name": "python3"
  },
  "language_info": {
   "codemirror_mode": {
    "name": "ipython",
    "version": 3
   },
   "file_extension": ".py",
   "mimetype": "text/x-python",
   "name": "python",
   "nbconvert_exporter": "python",
   "pygments_lexer": "ipython3",
   "version": "3.9.7"
  },
  "orig_nbformat": 4,
  "vscode": {
   "interpreter": {
    "hash": "0cd5f22c297df635327453fef9bfa81e0c78e8560b2327814181661a7fefaa6f"
   }
  }
 },
 "nbformat": 4,
 "nbformat_minor": 2
}
